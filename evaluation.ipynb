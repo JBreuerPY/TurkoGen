{
 "cells": [
  {
   "cell_type": "code",
   "execution_count": 1,
   "metadata": {},
   "outputs": [
    {
     "data": {
      "text/plain": [
       "'\\nDiese Datei enthält Beispielausgaben\\n\\nDamit alle Ausgaben ausgeführt werden können müssen die Module Pandas und Numpy installiert sein.\\n'"
      ]
     },
     "execution_count": 1,
     "metadata": {},
     "output_type": "execute_result"
    }
   ],
   "source": [
    "# Importieren des Moduls transducers\n",
    "from transducers import *\n",
    "\n",
    "\"\"\"\n",
    "Diese Datei enthält Beispielausgaben\n",
    "\n",
    "Damit alle Ausgaben ausgeführt werden können müssen die Module Pandas und Numpy installiert sein.\n",
    "\"\"\""
   ]
  },
  {
   "cell_type": "markdown",
   "metadata": {},
   "source": [
    "# 1. Das regelmäßige Verb\n",
    "### a) Paradigma"
   ]
  },
  {
   "cell_type": "code",
   "execution_count": 2,
   "metadata": {},
   "outputs": [
    {
     "data": {
      "text/html": [
       "<div>\n",
       "<style scoped>\n",
       "    .dataframe tbody tr th:only-of-type {\n",
       "        vertical-align: middle;\n",
       "    }\n",
       "\n",
       "    .dataframe tbody tr th {\n",
       "        vertical-align: top;\n",
       "    }\n",
       "\n",
       "    .dataframe thead th {\n",
       "        text-align: right;\n",
       "    }\n",
       "</style>\n",
       "<table border=\"1\" class=\"dataframe\">\n",
       "  <thead>\n",
       "    <tr style=\"text-align: right;\">\n",
       "      <th></th>\n",
       "      <th>Simple</th>\n",
       "      <th>Past</th>\n",
       "      <th>Conditional</th>\n",
       "      <th>Past &amp; Conditional</th>\n",
       "      <th>Inferential</th>\n",
       "      <th>Inferential &amp; Conditional</th>\n",
       "    </tr>\n",
       "  </thead>\n",
       "  <tbody>\n",
       "    <tr>\n",
       "      <th>Present</th>\n",
       "      <td>geliyorum</td>\n",
       "      <td>geliyordum</td>\n",
       "      <td>geliyorsam</td>\n",
       "      <td>geliyorduysam</td>\n",
       "      <td>geliyormuşum</td>\n",
       "      <td>geliyormuşsam</td>\n",
       "    </tr>\n",
       "    <tr>\n",
       "      <th>Future</th>\n",
       "      <td>geleceğim</td>\n",
       "      <td>gelecektim</td>\n",
       "      <td>geleceksem</td>\n",
       "      <td>gelecektiysem</td>\n",
       "      <td>gelecekmişim</td>\n",
       "      <td>gelecekmişsem</td>\n",
       "    </tr>\n",
       "    <tr>\n",
       "      <th>Aorist</th>\n",
       "      <td>gelirim</td>\n",
       "      <td>gelirdim</td>\n",
       "      <td>gelirsem</td>\n",
       "      <td>gelirdiysem</td>\n",
       "      <td>gelirmişim</td>\n",
       "      <td>gelirmişsem</td>\n",
       "    </tr>\n",
       "    <tr>\n",
       "      <th>miş-past</th>\n",
       "      <td>gelmişim</td>\n",
       "      <td>gelmiştim</td>\n",
       "      <td>gelmişsem</td>\n",
       "      <td>gelmiş idiysem</td>\n",
       "      <td>gelmiş imişim</td>\n",
       "      <td>gelmiş imişsem</td>\n",
       "    </tr>\n",
       "    <tr>\n",
       "      <th>di-past</th>\n",
       "      <td>geldim</td>\n",
       "      <td>geldiydim</td>\n",
       "      <td>geldiysem</td>\n",
       "      <td>geldi idiysem</td>\n",
       "      <td></td>\n",
       "      <td></td>\n",
       "    </tr>\n",
       "    <tr>\n",
       "      <th>Conditional</th>\n",
       "      <td>gelsem</td>\n",
       "      <td>gelseydim</td>\n",
       "      <td></td>\n",
       "      <td></td>\n",
       "      <td>gelseymişim</td>\n",
       "      <td></td>\n",
       "    </tr>\n",
       "    <tr>\n",
       "      <th>Optative</th>\n",
       "      <td>geleyim</td>\n",
       "      <td>geleydim</td>\n",
       "      <td></td>\n",
       "      <td></td>\n",
       "      <td>geleymişim</td>\n",
       "      <td></td>\n",
       "    </tr>\n",
       "    <tr>\n",
       "      <th>Necessitative</th>\n",
       "      <td>gelmeliyim</td>\n",
       "      <td>gelmeliydim</td>\n",
       "      <td>gelmeliysem</td>\n",
       "      <td>gelmeliydiysem</td>\n",
       "      <td>gelmeliymişim</td>\n",
       "      <td></td>\n",
       "    </tr>\n",
       "  </tbody>\n",
       "</table>\n",
       "</div>"
      ],
      "text/plain": [
       "                   Simple         Past  Conditional Past & Conditional  \\\n",
       "Present         geliyorum   geliyordum   geliyorsam      geliyorduysam   \n",
       "Future          geleceğim   gelecektim   geleceksem      gelecektiysem   \n",
       "Aorist            gelirim     gelirdim     gelirsem        gelirdiysem   \n",
       "miş-past         gelmişim    gelmiştim    gelmişsem     gelmiş idiysem   \n",
       "di-past            geldim    geldiydim    geldiysem      geldi idiysem   \n",
       "Conditional        gelsem    gelseydim                                   \n",
       "Optative          geleyim     geleydim                                   \n",
       "Necessitative  gelmeliyim  gelmeliydim  gelmeliysem     gelmeliydiysem   \n",
       "\n",
       "                 Inferential Inferential & Conditional  \n",
       "Present         geliyormuşum             geliyormuşsam  \n",
       "Future          gelecekmişim             gelecekmişsem  \n",
       "Aorist            gelirmişim               gelirmişsem  \n",
       "miş-past       gelmiş imişim            gelmiş imişsem  \n",
       "di-past                                                 \n",
       "Conditional      gelseymişim                            \n",
       "Optative          geleymişim                            \n",
       "Necessitative  gelmeliymişim                            "
      ]
     },
     "execution_count": 2,
     "metadata": {},
     "output_type": "execute_result"
    }
   ],
   "source": [
    "vg = VerbGenerator(\"gel\")\n",
    "vg.setFeatures([\"1\",\"SG\"])\n",
    "vg.paradigm()"
   ]
  },
  {
   "cell_type": "markdown",
   "metadata": {},
   "source": [
    "### b) Konjugation"
   ]
  },
  {
   "cell_type": "code",
   "execution_count": 3,
   "metadata": {},
   "outputs": [
    {
     "data": {
      "text/html": [
       "<div>\n",
       "<style scoped>\n",
       "    .dataframe tbody tr th:only-of-type {\n",
       "        vertical-align: middle;\n",
       "    }\n",
       "\n",
       "    .dataframe tbody tr th {\n",
       "        vertical-align: top;\n",
       "    }\n",
       "\n",
       "    .dataframe thead th {\n",
       "        text-align: right;\n",
       "    }\n",
       "</style>\n",
       "<table border=\"1\" class=\"dataframe\">\n",
       "  <thead>\n",
       "    <tr style=\"text-align: right;\">\n",
       "      <th></th>\n",
       "      <th>SG</th>\n",
       "      <th>PL</th>\n",
       "    </tr>\n",
       "  </thead>\n",
       "  <tbody>\n",
       "    <tr>\n",
       "      <th>1</th>\n",
       "      <td>geliyorum</td>\n",
       "      <td>geliyoruz</td>\n",
       "    </tr>\n",
       "    <tr>\n",
       "      <th>2</th>\n",
       "      <td>geliyorsun</td>\n",
       "      <td>geliyorsunuz</td>\n",
       "    </tr>\n",
       "    <tr>\n",
       "      <th>3</th>\n",
       "      <td>geliyor</td>\n",
       "      <td>geliyorlar</td>\n",
       "    </tr>\n",
       "  </tbody>\n",
       "</table>\n",
       "</div>"
      ],
      "text/plain": [
       "           SG            PL\n",
       "1   geliyorum     geliyoruz\n",
       "2  geliyorsun  geliyorsunuz\n",
       "3     geliyor    geliyorlar"
      ]
     },
     "execution_count": 3,
     "metadata": {},
     "output_type": "execute_result"
    }
   ],
   "source": [
    "vg.conjugate()"
   ]
  },
  {
   "cell_type": "markdown",
   "metadata": {},
   "source": [
    "### c) Analyse"
   ]
  },
  {
   "cell_type": "code",
   "execution_count": 4,
   "metadata": {},
   "outputs": [
    {
     "data": {
      "text/html": [
       "<div>\n",
       "<style scoped>\n",
       "    .dataframe tbody tr th:only-of-type {\n",
       "        vertical-align: middle;\n",
       "    }\n",
       "\n",
       "    .dataframe tbody tr th {\n",
       "        vertical-align: top;\n",
       "    }\n",
       "\n",
       "    .dataframe thead th {\n",
       "        text-align: right;\n",
       "    }\n",
       "</style>\n",
       "<table border=\"1\" class=\"dataframe\">\n",
       "  <thead>\n",
       "    <tr style=\"text-align: right;\">\n",
       "      <th></th>\n",
       "      <th>0</th>\n",
       "      <th>1</th>\n",
       "      <th>2</th>\n",
       "    </tr>\n",
       "  </thead>\n",
       "  <tbody>\n",
       "    <tr>\n",
       "      <th>Lexical</th>\n",
       "      <td>gel</td>\n",
       "      <td>PRES</td>\n",
       "      <td>1SG</td>\n",
       "    </tr>\n",
       "    <tr>\n",
       "      <th>Intermediate</th>\n",
       "      <td>gel</td>\n",
       "      <td>&lt;Iyor</td>\n",
       "      <td>1</td>\n",
       "    </tr>\n",
       "    <tr>\n",
       "      <th>Surface</th>\n",
       "      <td>gel</td>\n",
       "      <td>iyor</td>\n",
       "      <td>um</td>\n",
       "    </tr>\n",
       "  </tbody>\n",
       "</table>\n",
       "</div>"
      ],
      "text/plain": [
       "                0      1    2\n",
       "Lexical       gel   PRES  1SG\n",
       "Intermediate  gel  <Iyor    1\n",
       "Surface       gel   iyor   um"
      ]
     },
     "execution_count": 4,
     "metadata": {},
     "output_type": "execute_result"
    }
   ],
   "source": [
    "vg.analyze()"
   ]
  },
  {
   "cell_type": "markdown",
   "metadata": {},
   "source": [
    "## Interrogativ\n",
    "### a) Paradigma"
   ]
  },
  {
   "cell_type": "code",
   "execution_count": 5,
   "metadata": {},
   "outputs": [
    {
     "data": {
      "text/html": [
       "<div>\n",
       "<style scoped>\n",
       "    .dataframe tbody tr th:only-of-type {\n",
       "        vertical-align: middle;\n",
       "    }\n",
       "\n",
       "    .dataframe tbody tr th {\n",
       "        vertical-align: top;\n",
       "    }\n",
       "\n",
       "    .dataframe thead th {\n",
       "        text-align: right;\n",
       "    }\n",
       "</style>\n",
       "<table border=\"1\" class=\"dataframe\">\n",
       "  <thead>\n",
       "    <tr style=\"text-align: right;\">\n",
       "      <th></th>\n",
       "      <th>Simple</th>\n",
       "      <th>Past</th>\n",
       "      <th>Conditional</th>\n",
       "      <th>Past &amp; Conditional</th>\n",
       "      <th>Inferential</th>\n",
       "      <th>Inferential &amp; Conditional</th>\n",
       "    </tr>\n",
       "  </thead>\n",
       "  <tbody>\n",
       "    <tr>\n",
       "      <th>Present</th>\n",
       "      <td>yiyor muyum</td>\n",
       "      <td>yiyor muydum</td>\n",
       "      <td>yiyor muysam</td>\n",
       "      <td>yiyor muyduysam</td>\n",
       "      <td>yiyor muymuşum</td>\n",
       "      <td>yiyor muymuşsam</td>\n",
       "    </tr>\n",
       "    <tr>\n",
       "      <th>Future</th>\n",
       "      <td>yiyecek miyim</td>\n",
       "      <td>yiyecek miydim</td>\n",
       "      <td>yiyecek miysem</td>\n",
       "      <td>yiyecek miydiysem</td>\n",
       "      <td>yiyecek miymişim</td>\n",
       "      <td>yiyecek miymişsem</td>\n",
       "    </tr>\n",
       "    <tr>\n",
       "      <th>Aorist</th>\n",
       "      <td>yer miyim</td>\n",
       "      <td>yer miydim</td>\n",
       "      <td>yer miysem</td>\n",
       "      <td>yer miydiysem</td>\n",
       "      <td>yer miymişim</td>\n",
       "      <td>yer miymişsem</td>\n",
       "    </tr>\n",
       "    <tr>\n",
       "      <th>miş-past</th>\n",
       "      <td>yemiş miyim</td>\n",
       "      <td>yemiş miydim</td>\n",
       "      <td>yemiş miysem</td>\n",
       "      <td>yemiş miydiysem</td>\n",
       "      <td>yemiş miymişim</td>\n",
       "      <td>yemiş miymişsem</td>\n",
       "    </tr>\n",
       "    <tr>\n",
       "      <th>di-past</th>\n",
       "      <td>yedim mi</td>\n",
       "      <td>yedim miydi</td>\n",
       "      <td>yedim miyse</td>\n",
       "      <td>yedim miydiyse</td>\n",
       "      <td></td>\n",
       "      <td></td>\n",
       "    </tr>\n",
       "    <tr>\n",
       "      <th>Conditional</th>\n",
       "      <td>yesem mi</td>\n",
       "      <td>yesem miydi</td>\n",
       "      <td></td>\n",
       "      <td></td>\n",
       "      <td>yesem miymiş</td>\n",
       "      <td></td>\n",
       "    </tr>\n",
       "    <tr>\n",
       "      <th>Optative</th>\n",
       "      <td>yiyeyim mi</td>\n",
       "      <td>yiyeyim miydi</td>\n",
       "      <td></td>\n",
       "      <td></td>\n",
       "      <td>yiyeyim miymiş</td>\n",
       "      <td></td>\n",
       "    </tr>\n",
       "    <tr>\n",
       "      <th>Necessitative</th>\n",
       "      <td>yemeli miyim</td>\n",
       "      <td>yemeli miydim</td>\n",
       "      <td>yemeli miysem</td>\n",
       "      <td>yemeli miydiysem</td>\n",
       "      <td>yemeli miymişim</td>\n",
       "      <td></td>\n",
       "    </tr>\n",
       "  </tbody>\n",
       "</table>\n",
       "</div>"
      ],
      "text/plain": [
       "                      Simple            Past     Conditional  \\\n",
       "Present          yiyor muyum    yiyor muydum    yiyor muysam   \n",
       "Future         yiyecek miyim  yiyecek miydim  yiyecek miysem   \n",
       "Aorist             yer miyim      yer miydim      yer miysem   \n",
       "miş-past         yemiş miyim    yemiş miydim    yemiş miysem   \n",
       "di-past             yedim mi     yedim miydi     yedim miyse   \n",
       "Conditional         yesem mi     yesem miydi                   \n",
       "Optative          yiyeyim mi   yiyeyim miydi                   \n",
       "Necessitative   yemeli miyim   yemeli miydim   yemeli miysem   \n",
       "\n",
       "              Past & Conditional       Inferential Inferential & Conditional  \n",
       "Present          yiyor muyduysam    yiyor muymuşum           yiyor muymuşsam  \n",
       "Future         yiyecek miydiysem  yiyecek miymişim         yiyecek miymişsem  \n",
       "Aorist             yer miydiysem      yer miymişim             yer miymişsem  \n",
       "miş-past         yemiş miydiysem    yemiş miymişim           yemiş miymişsem  \n",
       "di-past           yedim miydiyse                                              \n",
       "Conditional                           yesem miymiş                            \n",
       "Optative                            yiyeyim miymiş                            \n",
       "Necessitative   yemeli miydiysem   yemeli miymişim                            "
      ]
     },
     "execution_count": 5,
     "metadata": {},
     "output_type": "execute_result"
    }
   ],
   "source": [
    "vg = VerbGenerator(\"ye\")\n",
    "vg.setPerson(\"1\")\n",
    "vg.setFeatures([\"1\",\"SG\",\"INT\"])\n",
    "vg.paradigm()"
   ]
  },
  {
   "cell_type": "markdown",
   "metadata": {},
   "source": [
    "### b) Konjugation"
   ]
  },
  {
   "cell_type": "code",
   "execution_count": 6,
   "metadata": {},
   "outputs": [
    {
     "data": {
      "text/html": [
       "<div>\n",
       "<style scoped>\n",
       "    .dataframe tbody tr th:only-of-type {\n",
       "        vertical-align: middle;\n",
       "    }\n",
       "\n",
       "    .dataframe tbody tr th {\n",
       "        vertical-align: top;\n",
       "    }\n",
       "\n",
       "    .dataframe thead th {\n",
       "        text-align: right;\n",
       "    }\n",
       "</style>\n",
       "<table border=\"1\" class=\"dataframe\">\n",
       "  <thead>\n",
       "    <tr style=\"text-align: right;\">\n",
       "      <th></th>\n",
       "      <th>SG</th>\n",
       "      <th>PL</th>\n",
       "    </tr>\n",
       "  </thead>\n",
       "  <tbody>\n",
       "    <tr>\n",
       "      <th>1</th>\n",
       "      <td>yiyor muyum</td>\n",
       "      <td>yiyor muyuz</td>\n",
       "    </tr>\n",
       "    <tr>\n",
       "      <th>2</th>\n",
       "      <td>yiyor musun</td>\n",
       "      <td>yiyor musunuz</td>\n",
       "    </tr>\n",
       "    <tr>\n",
       "      <th>3</th>\n",
       "      <td>yiyor mu</td>\n",
       "      <td>yiyorlar mı</td>\n",
       "    </tr>\n",
       "  </tbody>\n",
       "</table>\n",
       "</div>"
      ],
      "text/plain": [
       "            SG             PL\n",
       "1  yiyor muyum    yiyor muyuz\n",
       "2  yiyor musun  yiyor musunuz\n",
       "3     yiyor mu    yiyorlar mı"
      ]
     },
     "execution_count": 6,
     "metadata": {},
     "output_type": "execute_result"
    }
   ],
   "source": [
    "vg.conjugate()"
   ]
  },
  {
   "cell_type": "markdown",
   "metadata": {},
   "source": [
    "### c) Analyse"
   ]
  },
  {
   "cell_type": "code",
   "execution_count": 7,
   "metadata": {},
   "outputs": [
    {
     "data": {
      "text/html": [
       "<div>\n",
       "<style scoped>\n",
       "    .dataframe tbody tr th:only-of-type {\n",
       "        vertical-align: middle;\n",
       "    }\n",
       "\n",
       "    .dataframe tbody tr th {\n",
       "        vertical-align: top;\n",
       "    }\n",
       "\n",
       "    .dataframe thead th {\n",
       "        text-align: right;\n",
       "    }\n",
       "</style>\n",
       "<table border=\"1\" class=\"dataframe\">\n",
       "  <thead>\n",
       "    <tr style=\"text-align: right;\">\n",
       "      <th></th>\n",
       "      <th>0</th>\n",
       "      <th>1</th>\n",
       "      <th>2</th>\n",
       "      <th>3</th>\n",
       "    </tr>\n",
       "  </thead>\n",
       "  <tbody>\n",
       "    <tr>\n",
       "      <th>Lexical</th>\n",
       "      <td>ye</td>\n",
       "      <td>PRES</td>\n",
       "      <td>INT</td>\n",
       "      <td>1SG</td>\n",
       "    </tr>\n",
       "    <tr>\n",
       "      <th>Intermediate</th>\n",
       "      <td>ye</td>\n",
       "      <td>&lt;Iyor</td>\n",
       "      <td>#mI</td>\n",
       "      <td>1</td>\n",
       "    </tr>\n",
       "    <tr>\n",
       "      <th>Surface</th>\n",
       "      <td>y</td>\n",
       "      <td>iyor</td>\n",
       "      <td>mu</td>\n",
       "      <td>yum</td>\n",
       "    </tr>\n",
       "  </tbody>\n",
       "</table>\n",
       "</div>"
      ],
      "text/plain": [
       "               0      1    2    3\n",
       "Lexical       ye   PRES  INT  1SG\n",
       "Intermediate  ye  <Iyor  #mI    1\n",
       "Surface        y   iyor   mu  yum"
      ]
     },
     "execution_count": 7,
     "metadata": {},
     "output_type": "execute_result"
    }
   ],
   "source": [
    "vg.analyze()"
   ]
  },
  {
   "cell_type": "markdown",
   "metadata": {},
   "source": [
    "## Negation\n",
    "### a) Paradigma"
   ]
  },
  {
   "cell_type": "code",
   "execution_count": 8,
   "metadata": {},
   "outputs": [
    {
     "data": {
      "text/html": [
       "<div>\n",
       "<style scoped>\n",
       "    .dataframe tbody tr th:only-of-type {\n",
       "        vertical-align: middle;\n",
       "    }\n",
       "\n",
       "    .dataframe tbody tr th {\n",
       "        vertical-align: top;\n",
       "    }\n",
       "\n",
       "    .dataframe thead th {\n",
       "        text-align: right;\n",
       "    }\n",
       "</style>\n",
       "<table border=\"1\" class=\"dataframe\">\n",
       "  <thead>\n",
       "    <tr style=\"text-align: right;\">\n",
       "      <th></th>\n",
       "      <th>Simple</th>\n",
       "      <th>Past</th>\n",
       "      <th>Conditional</th>\n",
       "      <th>Past &amp; Conditional</th>\n",
       "      <th>Inferential</th>\n",
       "      <th>Inferential &amp; Conditional</th>\n",
       "    </tr>\n",
       "  </thead>\n",
       "  <tbody>\n",
       "    <tr>\n",
       "      <th>Present</th>\n",
       "      <td>gelmiyorum</td>\n",
       "      <td>gelmiyordum</td>\n",
       "      <td>gelmiyorsam</td>\n",
       "      <td>gelmiyorduysam</td>\n",
       "      <td>gelmiyormuşum</td>\n",
       "      <td>gelmiyormuşsam</td>\n",
       "    </tr>\n",
       "    <tr>\n",
       "      <th>Future</th>\n",
       "      <td>gelmeyeceğim</td>\n",
       "      <td>gelmeyecektim</td>\n",
       "      <td>gelmeyeceksem</td>\n",
       "      <td>gelmeyecektiysem</td>\n",
       "      <td>gelmeyecekmişim</td>\n",
       "      <td>gelmeyecekmişsem</td>\n",
       "    </tr>\n",
       "    <tr>\n",
       "      <th>Aorist</th>\n",
       "      <td>gelmem</td>\n",
       "      <td>gelmezdim</td>\n",
       "      <td>gelmezsem</td>\n",
       "      <td>gelmezdiysem</td>\n",
       "      <td>gelmezmişim</td>\n",
       "      <td>gelmezmişsem</td>\n",
       "    </tr>\n",
       "    <tr>\n",
       "      <th>miş-past</th>\n",
       "      <td>gelmemişim</td>\n",
       "      <td>gelmemiştim</td>\n",
       "      <td>gelmemişsem</td>\n",
       "      <td>gelmemiş idiysem</td>\n",
       "      <td>gelmemiş imişim</td>\n",
       "      <td>gelmemiş imişsem</td>\n",
       "    </tr>\n",
       "    <tr>\n",
       "      <th>di-past</th>\n",
       "      <td>gelmedim</td>\n",
       "      <td>gelmediydim</td>\n",
       "      <td>gelmediysem</td>\n",
       "      <td>gelmedi idiysem</td>\n",
       "      <td></td>\n",
       "      <td></td>\n",
       "    </tr>\n",
       "    <tr>\n",
       "      <th>Conditional</th>\n",
       "      <td>gelmesem</td>\n",
       "      <td>gelmeseydim</td>\n",
       "      <td></td>\n",
       "      <td></td>\n",
       "      <td>gelmeseymişim</td>\n",
       "      <td></td>\n",
       "    </tr>\n",
       "    <tr>\n",
       "      <th>Optative</th>\n",
       "      <td>gelmeyeyim</td>\n",
       "      <td>gelmeyeydim</td>\n",
       "      <td></td>\n",
       "      <td></td>\n",
       "      <td>gelmeyeymişim</td>\n",
       "      <td></td>\n",
       "    </tr>\n",
       "    <tr>\n",
       "      <th>Necessitative</th>\n",
       "      <td>gelmemeliyim</td>\n",
       "      <td>gelmemeliydim</td>\n",
       "      <td>gelmemeliysem</td>\n",
       "      <td>gelmemeliydiysem</td>\n",
       "      <td>gelmemeliymişim</td>\n",
       "      <td></td>\n",
       "    </tr>\n",
       "  </tbody>\n",
       "</table>\n",
       "</div>"
      ],
      "text/plain": [
       "                     Simple           Past    Conditional Past & Conditional  \\\n",
       "Present          gelmiyorum    gelmiyordum    gelmiyorsam     gelmiyorduysam   \n",
       "Future         gelmeyeceğim  gelmeyecektim  gelmeyeceksem   gelmeyecektiysem   \n",
       "Aorist               gelmem      gelmezdim      gelmezsem       gelmezdiysem   \n",
       "miş-past         gelmemişim    gelmemiştim    gelmemişsem   gelmemiş idiysem   \n",
       "di-past            gelmedim    gelmediydim    gelmediysem    gelmedi idiysem   \n",
       "Conditional        gelmesem    gelmeseydim                                     \n",
       "Optative         gelmeyeyim    gelmeyeydim                                     \n",
       "Necessitative  gelmemeliyim  gelmemeliydim  gelmemeliysem   gelmemeliydiysem   \n",
       "\n",
       "                   Inferential Inferential & Conditional  \n",
       "Present          gelmiyormuşum            gelmiyormuşsam  \n",
       "Future         gelmeyecekmişim          gelmeyecekmişsem  \n",
       "Aorist             gelmezmişim              gelmezmişsem  \n",
       "miş-past       gelmemiş imişim          gelmemiş imişsem  \n",
       "di-past                                                   \n",
       "Conditional      gelmeseymişim                            \n",
       "Optative         gelmeyeymişim                            \n",
       "Necessitative  gelmemeliymişim                            "
      ]
     },
     "execution_count": 8,
     "metadata": {},
     "output_type": "execute_result"
    }
   ],
   "source": [
    "vg = VerbGenerator(\"gel\")\n",
    "vg.setPerson(\"1\")\n",
    "vg.setFeatures([\"1\",\"SG\",\"NEG\"])\n",
    "vg.paradigm()"
   ]
  },
  {
   "cell_type": "markdown",
   "metadata": {},
   "source": [
    "### b) Konjugation"
   ]
  },
  {
   "cell_type": "code",
   "execution_count": 9,
   "metadata": {},
   "outputs": [
    {
     "data": {
      "text/html": [
       "<div>\n",
       "<style scoped>\n",
       "    .dataframe tbody tr th:only-of-type {\n",
       "        vertical-align: middle;\n",
       "    }\n",
       "\n",
       "    .dataframe tbody tr th {\n",
       "        vertical-align: top;\n",
       "    }\n",
       "\n",
       "    .dataframe thead th {\n",
       "        text-align: right;\n",
       "    }\n",
       "</style>\n",
       "<table border=\"1\" class=\"dataframe\">\n",
       "  <thead>\n",
       "    <tr style=\"text-align: right;\">\n",
       "      <th></th>\n",
       "      <th>SG</th>\n",
       "      <th>PL</th>\n",
       "    </tr>\n",
       "  </thead>\n",
       "  <tbody>\n",
       "    <tr>\n",
       "      <th>1</th>\n",
       "      <td>gelmem</td>\n",
       "      <td>gelmeyiz</td>\n",
       "    </tr>\n",
       "    <tr>\n",
       "      <th>2</th>\n",
       "      <td>gelmezsin</td>\n",
       "      <td>gelmezsiniz</td>\n",
       "    </tr>\n",
       "    <tr>\n",
       "      <th>3</th>\n",
       "      <td>gelmez</td>\n",
       "      <td>gelmezler</td>\n",
       "    </tr>\n",
       "  </tbody>\n",
       "</table>\n",
       "</div>"
      ],
      "text/plain": [
       "          SG           PL\n",
       "1     gelmem     gelmeyiz\n",
       "2  gelmezsin  gelmezsiniz\n",
       "3     gelmez    gelmezler"
      ]
     },
     "execution_count": 9,
     "metadata": {},
     "output_type": "execute_result"
    }
   ],
   "source": [
    "vg = VerbGenerator(\"gel\")\n",
    "vg.setFeatures([\"AOR\",\"NEG\"])\n",
    "vg.conjugate()"
   ]
  },
  {
   "cell_type": "markdown",
   "metadata": {},
   "source": [
    "### c) Analyse"
   ]
  },
  {
   "cell_type": "code",
   "execution_count": 10,
   "metadata": {},
   "outputs": [
    {
     "data": {
      "text/html": [
       "<div>\n",
       "<style scoped>\n",
       "    .dataframe tbody tr th:only-of-type {\n",
       "        vertical-align: middle;\n",
       "    }\n",
       "\n",
       "    .dataframe tbody tr th {\n",
       "        vertical-align: top;\n",
       "    }\n",
       "\n",
       "    .dataframe thead th {\n",
       "        text-align: right;\n",
       "    }\n",
       "</style>\n",
       "<table border=\"1\" class=\"dataframe\">\n",
       "  <thead>\n",
       "    <tr style=\"text-align: right;\">\n",
       "      <th></th>\n",
       "      <th>0</th>\n",
       "      <th>1</th>\n",
       "      <th>2</th>\n",
       "      <th>3</th>\n",
       "    </tr>\n",
       "  </thead>\n",
       "  <tbody>\n",
       "    <tr>\n",
       "      <th>Lexical</th>\n",
       "      <td>gel</td>\n",
       "      <td>NEG</td>\n",
       "      <td>AOR</td>\n",
       "      <td>3SG</td>\n",
       "    </tr>\n",
       "    <tr>\n",
       "      <th>Intermediate</th>\n",
       "      <td>gel</td>\n",
       "      <td>M</td>\n",
       "      <td>R</td>\n",
       "      <td>@</td>\n",
       "    </tr>\n",
       "    <tr>\n",
       "      <th>Surface</th>\n",
       "      <td>gel</td>\n",
       "      <td>mez</td>\n",
       "      <td></td>\n",
       "      <td></td>\n",
       "    </tr>\n",
       "  </tbody>\n",
       "</table>\n",
       "</div>"
      ],
      "text/plain": [
       "                0    1    2    3\n",
       "Lexical       gel  NEG  AOR  3SG\n",
       "Intermediate  gel    M    R    @\n",
       "Surface       gel  mez          "
      ]
     },
     "execution_count": 10,
     "metadata": {},
     "output_type": "execute_result"
    }
   ],
   "source": [
    "vg.analyze()"
   ]
  },
  {
   "cell_type": "markdown",
   "metadata": {},
   "source": [
    "## Negation + Interrogativ\n",
    "### a) Paradigma"
   ]
  },
  {
   "cell_type": "code",
   "execution_count": 11,
   "metadata": {},
   "outputs": [
    {
     "data": {
      "text/html": [
       "<div>\n",
       "<style scoped>\n",
       "    .dataframe tbody tr th:only-of-type {\n",
       "        vertical-align: middle;\n",
       "    }\n",
       "\n",
       "    .dataframe tbody tr th {\n",
       "        vertical-align: top;\n",
       "    }\n",
       "\n",
       "    .dataframe thead th {\n",
       "        text-align: right;\n",
       "    }\n",
       "</style>\n",
       "<table border=\"1\" class=\"dataframe\">\n",
       "  <thead>\n",
       "    <tr style=\"text-align: right;\">\n",
       "      <th></th>\n",
       "      <th>Simple</th>\n",
       "      <th>Past</th>\n",
       "      <th>Conditional</th>\n",
       "      <th>Past &amp; Conditional</th>\n",
       "      <th>Inferential</th>\n",
       "      <th>Inferential &amp; Conditional</th>\n",
       "    </tr>\n",
       "  </thead>\n",
       "  <tbody>\n",
       "    <tr>\n",
       "      <th>Present</th>\n",
       "      <td>gelmiyor muyum</td>\n",
       "      <td>gelmiyor muydum</td>\n",
       "      <td>gelmiyor muysam</td>\n",
       "      <td>gelmiyor muyduysam</td>\n",
       "      <td>gelmiyor muymuşum</td>\n",
       "      <td>gelmiyor muymuşsam</td>\n",
       "    </tr>\n",
       "    <tr>\n",
       "      <th>Future</th>\n",
       "      <td>gelmeyecek miyim</td>\n",
       "      <td>gelmeyecek miydim</td>\n",
       "      <td>gelmeyecek miysem</td>\n",
       "      <td>gelmeyecek miydiysem</td>\n",
       "      <td>gelmeyecek miymişim</td>\n",
       "      <td>gelmeyecek miymişsem</td>\n",
       "    </tr>\n",
       "    <tr>\n",
       "      <th>Aorist</th>\n",
       "      <td>gelmez miyim</td>\n",
       "      <td>gelmez miydim</td>\n",
       "      <td>gelmez miysem</td>\n",
       "      <td>gelmez miydiysem</td>\n",
       "      <td>gelmez miymişim</td>\n",
       "      <td>gelmez miymişsem</td>\n",
       "    </tr>\n",
       "    <tr>\n",
       "      <th>miş-past</th>\n",
       "      <td>gelmemiş miyim</td>\n",
       "      <td>gelmemiş miydim</td>\n",
       "      <td>gelmemiş miysem</td>\n",
       "      <td>gelmemiş miydiysem</td>\n",
       "      <td>gelmemiş miymişim</td>\n",
       "      <td>gelmemiş miymişsem</td>\n",
       "    </tr>\n",
       "    <tr>\n",
       "      <th>di-past</th>\n",
       "      <td>gelmedim mi</td>\n",
       "      <td>gelmedim miydi</td>\n",
       "      <td>gelmedim miyse</td>\n",
       "      <td>gelmedim miydiyse</td>\n",
       "      <td></td>\n",
       "      <td></td>\n",
       "    </tr>\n",
       "    <tr>\n",
       "      <th>Conditional</th>\n",
       "      <td>gelmesem mi</td>\n",
       "      <td>gelmesem miydi</td>\n",
       "      <td></td>\n",
       "      <td></td>\n",
       "      <td>gelmesem miymiş</td>\n",
       "      <td></td>\n",
       "    </tr>\n",
       "    <tr>\n",
       "      <th>Optative</th>\n",
       "      <td>gelmeyeyim mi</td>\n",
       "      <td>gelmeyeyim miydi</td>\n",
       "      <td></td>\n",
       "      <td></td>\n",
       "      <td>gelmeyeyim miymiş</td>\n",
       "      <td></td>\n",
       "    </tr>\n",
       "    <tr>\n",
       "      <th>Necessitative</th>\n",
       "      <td>gelmemeli miyim</td>\n",
       "      <td>gelmemeli miydim</td>\n",
       "      <td>gelmemeli miysem</td>\n",
       "      <td>gelmemeli miydiysem</td>\n",
       "      <td>gelmemeli miymişim</td>\n",
       "      <td></td>\n",
       "    </tr>\n",
       "  </tbody>\n",
       "</table>\n",
       "</div>"
      ],
      "text/plain": [
       "                         Simple               Past        Conditional  \\\n",
       "Present          gelmiyor muyum    gelmiyor muydum    gelmiyor muysam   \n",
       "Future         gelmeyecek miyim  gelmeyecek miydim  gelmeyecek miysem   \n",
       "Aorist             gelmez miyim      gelmez miydim      gelmez miysem   \n",
       "miş-past         gelmemiş miyim    gelmemiş miydim    gelmemiş miysem   \n",
       "di-past             gelmedim mi     gelmedim miydi     gelmedim miyse   \n",
       "Conditional         gelmesem mi     gelmesem miydi                      \n",
       "Optative          gelmeyeyim mi   gelmeyeyim miydi                      \n",
       "Necessitative   gelmemeli miyim   gelmemeli miydim   gelmemeli miysem   \n",
       "\n",
       "                 Past & Conditional          Inferential  \\\n",
       "Present          gelmiyor muyduysam    gelmiyor muymuşum   \n",
       "Future         gelmeyecek miydiysem  gelmeyecek miymişim   \n",
       "Aorist             gelmez miydiysem      gelmez miymişim   \n",
       "miş-past         gelmemiş miydiysem    gelmemiş miymişim   \n",
       "di-past           gelmedim miydiyse                        \n",
       "Conditional                              gelmesem miymiş   \n",
       "Optative                               gelmeyeyim miymiş   \n",
       "Necessitative   gelmemeli miydiysem   gelmemeli miymişim   \n",
       "\n",
       "              Inferential & Conditional  \n",
       "Present              gelmiyor muymuşsam  \n",
       "Future             gelmeyecek miymişsem  \n",
       "Aorist                 gelmez miymişsem  \n",
       "miş-past             gelmemiş miymişsem  \n",
       "di-past                                  \n",
       "Conditional                              \n",
       "Optative                                 \n",
       "Necessitative                            "
      ]
     },
     "execution_count": 11,
     "metadata": {},
     "output_type": "execute_result"
    }
   ],
   "source": [
    "vg = VerbGenerator(\"gel\")\n",
    "vg.setFeatures([\"1\",\"SG\",\"INT\",\"NEG\"])\n",
    "vg.paradigm()"
   ]
  },
  {
   "cell_type": "markdown",
   "metadata": {},
   "source": [
    "### b) Konjugation"
   ]
  },
  {
   "cell_type": "code",
   "execution_count": 12,
   "metadata": {},
   "outputs": [
    {
     "data": {
      "text/html": [
       "<div>\n",
       "<style scoped>\n",
       "    .dataframe tbody tr th:only-of-type {\n",
       "        vertical-align: middle;\n",
       "    }\n",
       "\n",
       "    .dataframe tbody tr th {\n",
       "        vertical-align: top;\n",
       "    }\n",
       "\n",
       "    .dataframe thead th {\n",
       "        text-align: right;\n",
       "    }\n",
       "</style>\n",
       "<table border=\"1\" class=\"dataframe\">\n",
       "  <thead>\n",
       "    <tr style=\"text-align: right;\">\n",
       "      <th></th>\n",
       "      <th>SG</th>\n",
       "      <th>PL</th>\n",
       "    </tr>\n",
       "  </thead>\n",
       "  <tbody>\n",
       "    <tr>\n",
       "      <th>1</th>\n",
       "      <td>gelmiyor muyum</td>\n",
       "      <td>gelmiyor muyuz</td>\n",
       "    </tr>\n",
       "    <tr>\n",
       "      <th>2</th>\n",
       "      <td>gelmiyor musun</td>\n",
       "      <td>gelmiyor musunuz</td>\n",
       "    </tr>\n",
       "    <tr>\n",
       "      <th>3</th>\n",
       "      <td>gelmiyor mu</td>\n",
       "      <td>gelmiyorlar mı</td>\n",
       "    </tr>\n",
       "  </tbody>\n",
       "</table>\n",
       "</div>"
      ],
      "text/plain": [
       "               SG                PL\n",
       "1  gelmiyor muyum    gelmiyor muyuz\n",
       "2  gelmiyor musun  gelmiyor musunuz\n",
       "3     gelmiyor mu    gelmiyorlar mı"
      ]
     },
     "execution_count": 12,
     "metadata": {},
     "output_type": "execute_result"
    }
   ],
   "source": [
    "vg.conjugate()"
   ]
  },
  {
   "cell_type": "markdown",
   "metadata": {},
   "source": [
    "### c) Analyse"
   ]
  },
  {
   "cell_type": "code",
   "execution_count": 13,
   "metadata": {},
   "outputs": [
    {
     "data": {
      "text/html": [
       "<div>\n",
       "<style scoped>\n",
       "    .dataframe tbody tr th:only-of-type {\n",
       "        vertical-align: middle;\n",
       "    }\n",
       "\n",
       "    .dataframe tbody tr th {\n",
       "        vertical-align: top;\n",
       "    }\n",
       "\n",
       "    .dataframe thead th {\n",
       "        text-align: right;\n",
       "    }\n",
       "</style>\n",
       "<table border=\"1\" class=\"dataframe\">\n",
       "  <thead>\n",
       "    <tr style=\"text-align: right;\">\n",
       "      <th></th>\n",
       "      <th>0</th>\n",
       "      <th>1</th>\n",
       "      <th>2</th>\n",
       "      <th>3</th>\n",
       "      <th>4</th>\n",
       "    </tr>\n",
       "  </thead>\n",
       "  <tbody>\n",
       "    <tr>\n",
       "      <th>Lexical</th>\n",
       "      <td>gel</td>\n",
       "      <td>NEG</td>\n",
       "      <td>PRES</td>\n",
       "      <td>INT</td>\n",
       "      <td>1SG</td>\n",
       "    </tr>\n",
       "    <tr>\n",
       "      <th>Intermediate</th>\n",
       "      <td>gel</td>\n",
       "      <td>M</td>\n",
       "      <td>&lt;Iyor</td>\n",
       "      <td>#mI</td>\n",
       "      <td>1</td>\n",
       "    </tr>\n",
       "    <tr>\n",
       "      <th>Surface</th>\n",
       "      <td>gel</td>\n",
       "      <td>m</td>\n",
       "      <td>iyor</td>\n",
       "      <td>mu</td>\n",
       "      <td>yum</td>\n",
       "    </tr>\n",
       "  </tbody>\n",
       "</table>\n",
       "</div>"
      ],
      "text/plain": [
       "                0    1      2    3    4\n",
       "Lexical       gel  NEG   PRES  INT  1SG\n",
       "Intermediate  gel    M  <Iyor  #mI    1\n",
       "Surface       gel    m   iyor   mu  yum"
      ]
     },
     "execution_count": 13,
     "metadata": {},
     "output_type": "execute_result"
    }
   ],
   "source": [
    "vg.analyze()"
   ]
  },
  {
   "cell_type": "markdown",
   "metadata": {},
   "source": [
    "# 2. Das Verb \"sein\"\n",
    "### a) Paradigma"
   ]
  },
  {
   "cell_type": "code",
   "execution_count": 14,
   "metadata": {},
   "outputs": [
    {
     "data": {
      "text/html": [
       "<div>\n",
       "<style scoped>\n",
       "    .dataframe tbody tr th:only-of-type {\n",
       "        vertical-align: middle;\n",
       "    }\n",
       "\n",
       "    .dataframe tbody tr th {\n",
       "        vertical-align: top;\n",
       "    }\n",
       "\n",
       "    .dataframe thead th {\n",
       "        text-align: right;\n",
       "    }\n",
       "</style>\n",
       "<table border=\"1\" class=\"dataframe\">\n",
       "  <thead>\n",
       "    <tr style=\"text-align: right;\">\n",
       "      <th></th>\n",
       "      <th>Simple</th>\n",
       "      <th>Past</th>\n",
       "      <th>Conditional</th>\n",
       "      <th>Past &amp; Conditional</th>\n",
       "      <th>Inferential</th>\n",
       "      <th>Inferential &amp; Conditional</th>\n",
       "    </tr>\n",
       "  </thead>\n",
       "  <tbody>\n",
       "    <tr>\n",
       "      <th>to be</th>\n",
       "      <td>yumuşağım</td>\n",
       "      <td>yumuşaktım</td>\n",
       "      <td>yumuşaksam</td>\n",
       "      <td>yumuşaktıysam</td>\n",
       "      <td>yumuşakmışım</td>\n",
       "      <td>yumuşakmışsam</td>\n",
       "    </tr>\n",
       "  </tbody>\n",
       "</table>\n",
       "</div>"
      ],
      "text/plain": [
       "          Simple        Past Conditional Past & Conditional   Inferential  \\\n",
       "to be  yumuşağım  yumuşaktım  yumuşaksam      yumuşaktıysam  yumuşakmışım   \n",
       "\n",
       "      Inferential & Conditional  \n",
       "to be             yumuşakmışsam  "
      ]
     },
     "execution_count": 14,
     "metadata": {},
     "output_type": "execute_result"
    }
   ],
   "source": [
    "vg = VerbGenerator(\"yumuşak\")\n",
    "vg.setFeatures([\"1\",\"SG\",\"toBE\"])\n",
    "vg.paradigm()"
   ]
  },
  {
   "cell_type": "markdown",
   "metadata": {},
   "source": [
    "### b) Konjugation"
   ]
  },
  {
   "cell_type": "code",
   "execution_count": 15,
   "metadata": {},
   "outputs": [
    {
     "data": {
      "text/html": [
       "<div>\n",
       "<style scoped>\n",
       "    .dataframe tbody tr th:only-of-type {\n",
       "        vertical-align: middle;\n",
       "    }\n",
       "\n",
       "    .dataframe tbody tr th {\n",
       "        vertical-align: top;\n",
       "    }\n",
       "\n",
       "    .dataframe thead th {\n",
       "        text-align: right;\n",
       "    }\n",
       "</style>\n",
       "<table border=\"1\" class=\"dataframe\">\n",
       "  <thead>\n",
       "    <tr style=\"text-align: right;\">\n",
       "      <th></th>\n",
       "      <th>SG</th>\n",
       "      <th>PL</th>\n",
       "    </tr>\n",
       "  </thead>\n",
       "  <tbody>\n",
       "    <tr>\n",
       "      <th>1</th>\n",
       "      <td>yumuşağım</td>\n",
       "      <td>yumuşağız</td>\n",
       "    </tr>\n",
       "    <tr>\n",
       "      <th>2</th>\n",
       "      <td>yumuşaksın</td>\n",
       "      <td>yumuşaksınız</td>\n",
       "    </tr>\n",
       "    <tr>\n",
       "      <th>3</th>\n",
       "      <td>yumuşak</td>\n",
       "      <td>yumuşaklar</td>\n",
       "    </tr>\n",
       "  </tbody>\n",
       "</table>\n",
       "</div>"
      ],
      "text/plain": [
       "           SG            PL\n",
       "1   yumuşağım     yumuşağız\n",
       "2  yumuşaksın  yumuşaksınız\n",
       "3     yumuşak    yumuşaklar"
      ]
     },
     "execution_count": 15,
     "metadata": {},
     "output_type": "execute_result"
    }
   ],
   "source": [
    "vg.conjugate()"
   ]
  },
  {
   "cell_type": "markdown",
   "metadata": {},
   "source": [
    "### c) Analyse"
   ]
  },
  {
   "cell_type": "code",
   "execution_count": 16,
   "metadata": {},
   "outputs": [
    {
     "data": {
      "text/html": [
       "<div>\n",
       "<style scoped>\n",
       "    .dataframe tbody tr th:only-of-type {\n",
       "        vertical-align: middle;\n",
       "    }\n",
       "\n",
       "    .dataframe tbody tr th {\n",
       "        vertical-align: top;\n",
       "    }\n",
       "\n",
       "    .dataframe thead th {\n",
       "        text-align: right;\n",
       "    }\n",
       "</style>\n",
       "<table border=\"1\" class=\"dataframe\">\n",
       "  <thead>\n",
       "    <tr style=\"text-align: right;\">\n",
       "      <th></th>\n",
       "      <th>0</th>\n",
       "      <th>1</th>\n",
       "      <th>2</th>\n",
       "    </tr>\n",
       "  </thead>\n",
       "  <tbody>\n",
       "    <tr>\n",
       "      <th>Lexical</th>\n",
       "      <td>yumuşaK</td>\n",
       "      <td>toBE</td>\n",
       "      <td>1SG</td>\n",
       "    </tr>\n",
       "    <tr>\n",
       "      <th>Intermediate</th>\n",
       "      <td>yumuşaK</td>\n",
       "      <td>@</td>\n",
       "      <td>1</td>\n",
       "    </tr>\n",
       "    <tr>\n",
       "      <th>Surface</th>\n",
       "      <td>yumuşağ</td>\n",
       "      <td></td>\n",
       "      <td>ım</td>\n",
       "    </tr>\n",
       "  </tbody>\n",
       "</table>\n",
       "</div>"
      ],
      "text/plain": [
       "                    0     1    2\n",
       "Lexical       yumuşaK  toBE  1SG\n",
       "Intermediate  yumuşaK     @    1\n",
       "Surface       yumuşağ         ım"
      ]
     },
     "execution_count": 16,
     "metadata": {},
     "output_type": "execute_result"
    }
   ],
   "source": [
    "vg.analyze()"
   ]
  },
  {
   "cell_type": "markdown",
   "metadata": {},
   "source": [
    "## Interrogativ\n",
    "### a) Paradigma"
   ]
  },
  {
   "cell_type": "code",
   "execution_count": 17,
   "metadata": {},
   "outputs": [
    {
     "data": {
      "text/html": [
       "<div>\n",
       "<style scoped>\n",
       "    .dataframe tbody tr th:only-of-type {\n",
       "        vertical-align: middle;\n",
       "    }\n",
       "\n",
       "    .dataframe tbody tr th {\n",
       "        vertical-align: top;\n",
       "    }\n",
       "\n",
       "    .dataframe thead th {\n",
       "        text-align: right;\n",
       "    }\n",
       "</style>\n",
       "<table border=\"1\" class=\"dataframe\">\n",
       "  <thead>\n",
       "    <tr style=\"text-align: right;\">\n",
       "      <th></th>\n",
       "      <th>Simple</th>\n",
       "      <th>Past</th>\n",
       "      <th>Conditional</th>\n",
       "      <th>Past &amp; Conditional</th>\n",
       "      <th>Inferential</th>\n",
       "      <th>Inferential &amp; Conditional</th>\n",
       "    </tr>\n",
       "  </thead>\n",
       "  <tbody>\n",
       "    <tr>\n",
       "      <th>to be</th>\n",
       "      <td>hazır mıyım</td>\n",
       "      <td>hazır mıydım</td>\n",
       "      <td>hazır mıysam</td>\n",
       "      <td>hazır mıydıysam</td>\n",
       "      <td>hazır mıymışım</td>\n",
       "      <td>hazır mıymışsam</td>\n",
       "    </tr>\n",
       "  </tbody>\n",
       "</table>\n",
       "</div>"
      ],
      "text/plain": [
       "            Simple          Past   Conditional Past & Conditional  \\\n",
       "to be  hazır mıyım  hazır mıydım  hazır mıysam    hazır mıydıysam   \n",
       "\n",
       "          Inferential Inferential & Conditional  \n",
       "to be  hazır mıymışım           hazır mıymışsam  "
      ]
     },
     "execution_count": 17,
     "metadata": {},
     "output_type": "execute_result"
    }
   ],
   "source": [
    "vg = VerbGenerator(\"hazır\")\n",
    "vg.setFeatures([\"1\",\"SG\",\"toBE\",\"INT\"])\n",
    "vg.paradigm()"
   ]
  },
  {
   "cell_type": "markdown",
   "metadata": {},
   "source": [
    "### b) Konjugation"
   ]
  },
  {
   "cell_type": "code",
   "execution_count": 18,
   "metadata": {},
   "outputs": [
    {
     "data": {
      "text/html": [
       "<div>\n",
       "<style scoped>\n",
       "    .dataframe tbody tr th:only-of-type {\n",
       "        vertical-align: middle;\n",
       "    }\n",
       "\n",
       "    .dataframe tbody tr th {\n",
       "        vertical-align: top;\n",
       "    }\n",
       "\n",
       "    .dataframe thead th {\n",
       "        text-align: right;\n",
       "    }\n",
       "</style>\n",
       "<table border=\"1\" class=\"dataframe\">\n",
       "  <thead>\n",
       "    <tr style=\"text-align: right;\">\n",
       "      <th></th>\n",
       "      <th>SG</th>\n",
       "      <th>PL</th>\n",
       "    </tr>\n",
       "  </thead>\n",
       "  <tbody>\n",
       "    <tr>\n",
       "      <th>1</th>\n",
       "      <td>hazır mıyım</td>\n",
       "      <td>hazır mıyız</td>\n",
       "    </tr>\n",
       "    <tr>\n",
       "      <th>2</th>\n",
       "      <td>hazır mısın</td>\n",
       "      <td>hazır mısınız</td>\n",
       "    </tr>\n",
       "    <tr>\n",
       "      <th>3</th>\n",
       "      <td>hazır mı</td>\n",
       "      <td>hazırlar mı</td>\n",
       "    </tr>\n",
       "  </tbody>\n",
       "</table>\n",
       "</div>"
      ],
      "text/plain": [
       "            SG             PL\n",
       "1  hazır mıyım    hazır mıyız\n",
       "2  hazır mısın  hazır mısınız\n",
       "3     hazır mı    hazırlar mı"
      ]
     },
     "execution_count": 18,
     "metadata": {},
     "output_type": "execute_result"
    }
   ],
   "source": [
    "vg.conjugate()"
   ]
  },
  {
   "cell_type": "markdown",
   "metadata": {},
   "source": [
    "### c) Analyse"
   ]
  },
  {
   "cell_type": "code",
   "execution_count": 19,
   "metadata": {},
   "outputs": [
    {
     "data": {
      "text/html": [
       "<div>\n",
       "<style scoped>\n",
       "    .dataframe tbody tr th:only-of-type {\n",
       "        vertical-align: middle;\n",
       "    }\n",
       "\n",
       "    .dataframe tbody tr th {\n",
       "        vertical-align: top;\n",
       "    }\n",
       "\n",
       "    .dataframe thead th {\n",
       "        text-align: right;\n",
       "    }\n",
       "</style>\n",
       "<table border=\"1\" class=\"dataframe\">\n",
       "  <thead>\n",
       "    <tr style=\"text-align: right;\">\n",
       "      <th></th>\n",
       "      <th>0</th>\n",
       "      <th>1</th>\n",
       "      <th>2</th>\n",
       "      <th>3</th>\n",
       "    </tr>\n",
       "  </thead>\n",
       "  <tbody>\n",
       "    <tr>\n",
       "      <th>Lexical</th>\n",
       "      <td>hazır</td>\n",
       "      <td>toBE</td>\n",
       "      <td>INT</td>\n",
       "      <td>1SG</td>\n",
       "    </tr>\n",
       "    <tr>\n",
       "      <th>Intermediate</th>\n",
       "      <td>hazır</td>\n",
       "      <td>@</td>\n",
       "      <td>#mI</td>\n",
       "      <td>1</td>\n",
       "    </tr>\n",
       "    <tr>\n",
       "      <th>Surface</th>\n",
       "      <td>hazır</td>\n",
       "      <td></td>\n",
       "      <td>mı</td>\n",
       "      <td>yım</td>\n",
       "    </tr>\n",
       "  </tbody>\n",
       "</table>\n",
       "</div>"
      ],
      "text/plain": [
       "                  0     1    2    3\n",
       "Lexical       hazır  toBE  INT  1SG\n",
       "Intermediate  hazır     @  #mI    1\n",
       "Surface       hazır         mı  yım"
      ]
     },
     "execution_count": 19,
     "metadata": {},
     "output_type": "execute_result"
    }
   ],
   "source": [
    "vg.analyze()"
   ]
  },
  {
   "cell_type": "markdown",
   "metadata": {},
   "source": [
    "## Negation\n",
    "### a) Paradigma"
   ]
  },
  {
   "cell_type": "code",
   "execution_count": 20,
   "metadata": {},
   "outputs": [
    {
     "data": {
      "text/html": [
       "<div>\n",
       "<style scoped>\n",
       "    .dataframe tbody tr th:only-of-type {\n",
       "        vertical-align: middle;\n",
       "    }\n",
       "\n",
       "    .dataframe tbody tr th {\n",
       "        vertical-align: top;\n",
       "    }\n",
       "\n",
       "    .dataframe thead th {\n",
       "        text-align: right;\n",
       "    }\n",
       "</style>\n",
       "<table border=\"1\" class=\"dataframe\">\n",
       "  <thead>\n",
       "    <tr style=\"text-align: right;\">\n",
       "      <th></th>\n",
       "      <th>Simple</th>\n",
       "      <th>Past</th>\n",
       "      <th>Conditional</th>\n",
       "      <th>Past &amp; Conditional</th>\n",
       "      <th>Inferential</th>\n",
       "      <th>Inferential &amp; Conditional</th>\n",
       "    </tr>\n",
       "  </thead>\n",
       "  <tbody>\n",
       "    <tr>\n",
       "      <th>to be</th>\n",
       "      <td>hazır değilim</td>\n",
       "      <td>hazır değildim</td>\n",
       "      <td>hazır değilsem</td>\n",
       "      <td>hazır değildiysem</td>\n",
       "      <td>hazır değilmişim</td>\n",
       "      <td>hazır değilmişsem</td>\n",
       "    </tr>\n",
       "  </tbody>\n",
       "</table>\n",
       "</div>"
      ],
      "text/plain": [
       "              Simple            Past     Conditional Past & Conditional  \\\n",
       "to be  hazır değilim  hazır değildim  hazır değilsem  hazır değildiysem   \n",
       "\n",
       "            Inferential Inferential & Conditional  \n",
       "to be  hazır değilmişim         hazır değilmişsem  "
      ]
     },
     "execution_count": 20,
     "metadata": {},
     "output_type": "execute_result"
    }
   ],
   "source": [
    "vg = VerbGenerator(\"hazır\")\n",
    "vg.setFeatures([\"1\",\"SG\",\"toBE\",\"NEG\"])\n",
    "vg.paradigm()"
   ]
  },
  {
   "cell_type": "markdown",
   "metadata": {},
   "source": [
    "## b) Konjugation"
   ]
  },
  {
   "cell_type": "code",
   "execution_count": 21,
   "metadata": {},
   "outputs": [
    {
     "data": {
      "text/html": [
       "<div>\n",
       "<style scoped>\n",
       "    .dataframe tbody tr th:only-of-type {\n",
       "        vertical-align: middle;\n",
       "    }\n",
       "\n",
       "    .dataframe tbody tr th {\n",
       "        vertical-align: top;\n",
       "    }\n",
       "\n",
       "    .dataframe thead th {\n",
       "        text-align: right;\n",
       "    }\n",
       "</style>\n",
       "<table border=\"1\" class=\"dataframe\">\n",
       "  <thead>\n",
       "    <tr style=\"text-align: right;\">\n",
       "      <th></th>\n",
       "      <th>SG</th>\n",
       "      <th>PL</th>\n",
       "    </tr>\n",
       "  </thead>\n",
       "  <tbody>\n",
       "    <tr>\n",
       "      <th>1</th>\n",
       "      <td>hazır değilim</td>\n",
       "      <td>hazır değiliz</td>\n",
       "    </tr>\n",
       "    <tr>\n",
       "      <th>2</th>\n",
       "      <td>hazır değilsin</td>\n",
       "      <td>hazır değilsiniz</td>\n",
       "    </tr>\n",
       "    <tr>\n",
       "      <th>3</th>\n",
       "      <td>hazır değil</td>\n",
       "      <td>hazır değiller</td>\n",
       "    </tr>\n",
       "  </tbody>\n",
       "</table>\n",
       "</div>"
      ],
      "text/plain": [
       "               SG                PL\n",
       "1   hazır değilim     hazır değiliz\n",
       "2  hazır değilsin  hazır değilsiniz\n",
       "3     hazır değil    hazır değiller"
      ]
     },
     "execution_count": 21,
     "metadata": {},
     "output_type": "execute_result"
    }
   ],
   "source": [
    "vg.conjugate()"
   ]
  },
  {
   "cell_type": "markdown",
   "metadata": {},
   "source": [
    "### c) Analyse"
   ]
  },
  {
   "cell_type": "code",
   "execution_count": 22,
   "metadata": {},
   "outputs": [
    {
     "data": {
      "text/html": [
       "<div>\n",
       "<style scoped>\n",
       "    .dataframe tbody tr th:only-of-type {\n",
       "        vertical-align: middle;\n",
       "    }\n",
       "\n",
       "    .dataframe tbody tr th {\n",
       "        vertical-align: top;\n",
       "    }\n",
       "\n",
       "    .dataframe thead th {\n",
       "        text-align: right;\n",
       "    }\n",
       "</style>\n",
       "<table border=\"1\" class=\"dataframe\">\n",
       "  <thead>\n",
       "    <tr style=\"text-align: right;\">\n",
       "      <th></th>\n",
       "      <th>0</th>\n",
       "      <th>1</th>\n",
       "      <th>2</th>\n",
       "      <th>3</th>\n",
       "    </tr>\n",
       "  </thead>\n",
       "  <tbody>\n",
       "    <tr>\n",
       "      <th>Lexical</th>\n",
       "      <td>hazır</td>\n",
       "      <td>NEG</td>\n",
       "      <td>toBE</td>\n",
       "      <td>1SG</td>\n",
       "    </tr>\n",
       "    <tr>\n",
       "      <th>Intermediate</th>\n",
       "      <td>hazır</td>\n",
       "      <td>M</td>\n",
       "      <td>@</td>\n",
       "      <td>1</td>\n",
       "    </tr>\n",
       "    <tr>\n",
       "      <th>Surface</th>\n",
       "      <td>hazır</td>\n",
       "      <td>değil</td>\n",
       "      <td></td>\n",
       "      <td>im</td>\n",
       "    </tr>\n",
       "  </tbody>\n",
       "</table>\n",
       "</div>"
      ],
      "text/plain": [
       "                  0       1     2    3\n",
       "Lexical       hazır     NEG  toBE  1SG\n",
       "Intermediate  hazır       M     @    1\n",
       "Surface       hazır   değil         im"
      ]
     },
     "execution_count": 22,
     "metadata": {},
     "output_type": "execute_result"
    }
   ],
   "source": [
    "vg.analyze()"
   ]
  },
  {
   "cell_type": "markdown",
   "metadata": {},
   "source": [
    "## Negation + Interrogativ\n",
    "### a) Paradigma"
   ]
  },
  {
   "cell_type": "code",
   "execution_count": 23,
   "metadata": {},
   "outputs": [
    {
     "data": {
      "text/html": [
       "<div>\n",
       "<style scoped>\n",
       "    .dataframe tbody tr th:only-of-type {\n",
       "        vertical-align: middle;\n",
       "    }\n",
       "\n",
       "    .dataframe tbody tr th {\n",
       "        vertical-align: top;\n",
       "    }\n",
       "\n",
       "    .dataframe thead th {\n",
       "        text-align: right;\n",
       "    }\n",
       "</style>\n",
       "<table border=\"1\" class=\"dataframe\">\n",
       "  <thead>\n",
       "    <tr style=\"text-align: right;\">\n",
       "      <th></th>\n",
       "      <th>Simple</th>\n",
       "      <th>Past</th>\n",
       "      <th>Conditional</th>\n",
       "      <th>Past &amp; Conditional</th>\n",
       "      <th>Inferential</th>\n",
       "      <th>Inferential &amp; Conditional</th>\n",
       "    </tr>\n",
       "  </thead>\n",
       "  <tbody>\n",
       "    <tr>\n",
       "      <th>to be</th>\n",
       "      <td>hazır değil miyim</td>\n",
       "      <td>hazır değil miydim</td>\n",
       "      <td>hazır değil miysem</td>\n",
       "      <td>hazır değil miydiysem</td>\n",
       "      <td>hazır değil miymişim</td>\n",
       "      <td>hazır değil miymişsem</td>\n",
       "    </tr>\n",
       "  </tbody>\n",
       "</table>\n",
       "</div>"
      ],
      "text/plain": [
       "                  Simple                Past         Conditional  \\\n",
       "to be  hazır değil miyim  hazır değil miydim  hazır değil miysem   \n",
       "\n",
       "          Past & Conditional           Inferential Inferential & Conditional  \n",
       "to be  hazır değil miydiysem  hazır değil miymişim     hazır değil miymişsem  "
      ]
     },
     "execution_count": 23,
     "metadata": {},
     "output_type": "execute_result"
    }
   ],
   "source": [
    "vg = VerbGenerator(\"hazır\")\n",
    "vg.setFeatures([\"1\",\"SG\",\"toBE\",\"NEG\",\"INT\"])\n",
    "vg.setInterrogative()\n",
    "vg.paradigm()"
   ]
  },
  {
   "cell_type": "markdown",
   "metadata": {},
   "source": [
    "### b) Konjugation"
   ]
  },
  {
   "cell_type": "code",
   "execution_count": 24,
   "metadata": {},
   "outputs": [
    {
     "data": {
      "text/html": [
       "<div>\n",
       "<style scoped>\n",
       "    .dataframe tbody tr th:only-of-type {\n",
       "        vertical-align: middle;\n",
       "    }\n",
       "\n",
       "    .dataframe tbody tr th {\n",
       "        vertical-align: top;\n",
       "    }\n",
       "\n",
       "    .dataframe thead th {\n",
       "        text-align: right;\n",
       "    }\n",
       "</style>\n",
       "<table border=\"1\" class=\"dataframe\">\n",
       "  <thead>\n",
       "    <tr style=\"text-align: right;\">\n",
       "      <th></th>\n",
       "      <th>SG</th>\n",
       "      <th>PL</th>\n",
       "    </tr>\n",
       "  </thead>\n",
       "  <tbody>\n",
       "    <tr>\n",
       "      <th>1</th>\n",
       "      <td>hazır değil miyim</td>\n",
       "      <td>hazır değil miyiz</td>\n",
       "    </tr>\n",
       "    <tr>\n",
       "      <th>2</th>\n",
       "      <td>hazır değil misin</td>\n",
       "      <td>hazır değil misiniz</td>\n",
       "    </tr>\n",
       "    <tr>\n",
       "      <th>3</th>\n",
       "      <td>hazır değil mi</td>\n",
       "      <td>hazır değiller mi</td>\n",
       "    </tr>\n",
       "  </tbody>\n",
       "</table>\n",
       "</div>"
      ],
      "text/plain": [
       "                  SG                   PL\n",
       "1  hazır değil miyim    hazır değil miyiz\n",
       "2  hazır değil misin  hazır değil misiniz\n",
       "3     hazır değil mi    hazır değiller mi"
      ]
     },
     "execution_count": 24,
     "metadata": {},
     "output_type": "execute_result"
    }
   ],
   "source": [
    "vg.conjugate()"
   ]
  },
  {
   "cell_type": "markdown",
   "metadata": {},
   "source": [
    "### c) Analyse"
   ]
  },
  {
   "cell_type": "code",
   "execution_count": 25,
   "metadata": {},
   "outputs": [
    {
     "data": {
      "text/html": [
       "<div>\n",
       "<style scoped>\n",
       "    .dataframe tbody tr th:only-of-type {\n",
       "        vertical-align: middle;\n",
       "    }\n",
       "\n",
       "    .dataframe tbody tr th {\n",
       "        vertical-align: top;\n",
       "    }\n",
       "\n",
       "    .dataframe thead th {\n",
       "        text-align: right;\n",
       "    }\n",
       "</style>\n",
       "<table border=\"1\" class=\"dataframe\">\n",
       "  <thead>\n",
       "    <tr style=\"text-align: right;\">\n",
       "      <th></th>\n",
       "      <th>0</th>\n",
       "      <th>1</th>\n",
       "      <th>2</th>\n",
       "      <th>3</th>\n",
       "      <th>4</th>\n",
       "    </tr>\n",
       "  </thead>\n",
       "  <tbody>\n",
       "    <tr>\n",
       "      <th>Lexical</th>\n",
       "      <td>hazır</td>\n",
       "      <td>NEG</td>\n",
       "      <td>toBE</td>\n",
       "      <td>INT</td>\n",
       "      <td>1SG</td>\n",
       "    </tr>\n",
       "    <tr>\n",
       "      <th>Intermediate</th>\n",
       "      <td>hazır</td>\n",
       "      <td>M</td>\n",
       "      <td>@</td>\n",
       "      <td>#mI</td>\n",
       "      <td>1</td>\n",
       "    </tr>\n",
       "    <tr>\n",
       "      <th>Surface</th>\n",
       "      <td>hazır</td>\n",
       "      <td>değil</td>\n",
       "      <td></td>\n",
       "      <td>mi</td>\n",
       "      <td>yim</td>\n",
       "    </tr>\n",
       "  </tbody>\n",
       "</table>\n",
       "</div>"
      ],
      "text/plain": [
       "                  0       1     2    3    4\n",
       "Lexical       hazır     NEG  toBE  INT  1SG\n",
       "Intermediate  hazır       M     @  #mI    1\n",
       "Surface       hazır   değil         mi  yim"
      ]
     },
     "execution_count": 25,
     "metadata": {},
     "output_type": "execute_result"
    }
   ],
   "source": [
    "vg.analyze()"
   ]
  },
  {
   "cell_type": "markdown",
   "metadata": {},
   "source": [
    "# 3. Partizipien\n",
    "- Beispiel: yaşamak (leben); Präsens"
   ]
  },
  {
   "cell_type": "code",
   "execution_count": 26,
   "metadata": {},
   "outputs": [
    {
     "data": {
      "text/plain": [
       "'yaşayan'"
      ]
     },
     "execution_count": 26,
     "metadata": {},
     "output_type": "execute_result"
    }
   ],
   "source": [
    "vg = VerbGenerator(\"yaşa\")\n",
    "vg.setBase(\"PRES\")\n",
    "vg.setParticiple()\n",
    "vg.form()"
   ]
  },
  {
   "cell_type": "markdown",
   "metadata": {},
   "source": [
    "# 4. Komplexe Formen\n",
    "## Zusammengesetzte Formen + Verbstammerweiterung"
   ]
  },
  {
   "cell_type": "markdown",
   "metadata": {},
   "source": [
    "### yapabileceksek: \n",
    "- yap + ['PL', '1', 'FUTURE', 'CONDfeature', 'POT']\n",
    "- Features werden hier durch einzelne Funktionen gesetzt"
   ]
  },
  {
   "cell_type": "code",
   "execution_count": 27,
   "metadata": {},
   "outputs": [
    {
     "data": {
      "text/plain": [
       "'yapabileceksek'"
      ]
     },
     "execution_count": 27,
     "metadata": {},
     "output_type": "execute_result"
    }
   ],
   "source": [
    "# Instanziierung mit Verbstamm\n",
    "vg = VerbGenerator(\"yap\")\n",
    "# Verbbasis bestimmen\n",
    "vg.setBase(\"FUTURE\")\n",
    "# Person bestimmen\n",
    "vg.setPerson(\"1\")\n",
    "# Numerus bestimmen\n",
    "vg.setNumber(\"PL\")\n",
    "# Potentialis-Feature\n",
    "vg.setPotential()\n",
    "# Conditional-Ergänzung\n",
    "vg.setConditional()\n",
    "# Form ausgeben\n",
    "vg.form()"
   ]
  },
  {
   "cell_type": "code",
   "execution_count": 28,
   "metadata": {},
   "outputs": [
    {
     "data": {
      "text/html": [
       "<div>\n",
       "<style scoped>\n",
       "    .dataframe tbody tr th:only-of-type {\n",
       "        vertical-align: middle;\n",
       "    }\n",
       "\n",
       "    .dataframe tbody tr th {\n",
       "        vertical-align: top;\n",
       "    }\n",
       "\n",
       "    .dataframe thead th {\n",
       "        text-align: right;\n",
       "    }\n",
       "</style>\n",
       "<table border=\"1\" class=\"dataframe\">\n",
       "  <thead>\n",
       "    <tr style=\"text-align: right;\">\n",
       "      <th></th>\n",
       "      <th>0</th>\n",
       "      <th>1</th>\n",
       "      <th>2</th>\n",
       "      <th>3</th>\n",
       "      <th>4</th>\n",
       "    </tr>\n",
       "  </thead>\n",
       "  <tbody>\n",
       "    <tr>\n",
       "      <th>Lexical</th>\n",
       "      <td>yap</td>\n",
       "      <td>POT</td>\n",
       "      <td>FUTURE</td>\n",
       "      <td>CONDfeature</td>\n",
       "      <td>1PL</td>\n",
       "    </tr>\n",
       "    <tr>\n",
       "      <th>Intermediate</th>\n",
       "      <td>yap</td>\n",
       "      <td>YEbil</td>\n",
       "      <td>YEcEK</td>\n",
       "      <td>!sE</td>\n",
       "      <td>k</td>\n",
       "    </tr>\n",
       "    <tr>\n",
       "      <th>Surface</th>\n",
       "      <td>yap</td>\n",
       "      <td>abil</td>\n",
       "      <td>ecek</td>\n",
       "      <td>se</td>\n",
       "      <td>k</td>\n",
       "    </tr>\n",
       "  </tbody>\n",
       "</table>\n",
       "</div>"
      ],
      "text/plain": [
       "                0      1       2            3    4\n",
       "Lexical       yap    POT  FUTURE  CONDfeature  1PL\n",
       "Intermediate  yap  YEbil   YEcEK          !sE    k\n",
       "Surface       yap   abil    ecek           se    k"
      ]
     },
     "execution_count": 28,
     "metadata": {},
     "output_type": "execute_result"
    }
   ],
   "source": [
    "# Analyse ausgeben\n",
    "vg.analyze()"
   ]
  },
  {
   "cell_type": "markdown",
   "metadata": {},
   "source": [
    "### dayanıştırtılamayabilecek miymişiz: \n",
    "- dayan + ['RECIP', 'CAUS2', 'PASS', 'IMPOT', 'POT', 'FUTURE', 'INT', 'INFER', '1', 'PL']"
   ]
  },
  {
   "cell_type": "code",
   "execution_count": 29,
   "metadata": {},
   "outputs": [
    {
     "data": {
      "text/html": [
       "<div>\n",
       "<style scoped>\n",
       "    .dataframe tbody tr th:only-of-type {\n",
       "        vertical-align: middle;\n",
       "    }\n",
       "\n",
       "    .dataframe tbody tr th {\n",
       "        vertical-align: top;\n",
       "    }\n",
       "\n",
       "    .dataframe thead th {\n",
       "        text-align: right;\n",
       "    }\n",
       "</style>\n",
       "<table border=\"1\" class=\"dataframe\">\n",
       "  <thead>\n",
       "    <tr style=\"text-align: right;\">\n",
       "      <th></th>\n",
       "      <th>0</th>\n",
       "      <th>1</th>\n",
       "      <th>2</th>\n",
       "      <th>3</th>\n",
       "      <th>4</th>\n",
       "      <th>5</th>\n",
       "      <th>6</th>\n",
       "      <th>7</th>\n",
       "      <th>8</th>\n",
       "      <th>9</th>\n",
       "    </tr>\n",
       "  </thead>\n",
       "  <tbody>\n",
       "    <tr>\n",
       "      <th>Lexical</th>\n",
       "      <td>dayan</td>\n",
       "      <td>RECIP</td>\n",
       "      <td>CAUS</td>\n",
       "      <td>PASS</td>\n",
       "      <td>IMPOT</td>\n",
       "      <td>POT</td>\n",
       "      <td>FUTURE</td>\n",
       "      <td>INT</td>\n",
       "      <td>INFER</td>\n",
       "      <td>1PL</td>\n",
       "    </tr>\n",
       "    <tr>\n",
       "      <th>Intermediate</th>\n",
       "      <td>dayan</td>\n",
       "      <td>Ş</td>\n",
       "      <td>C</td>\n",
       "      <td>L</td>\n",
       "      <td>YEM</td>\n",
       "      <td>YEbil</td>\n",
       "      <td>YEcEK</td>\n",
       "      <td>#mI</td>\n",
       "      <td>?mIş</td>\n",
       "      <td>YIz</td>\n",
       "    </tr>\n",
       "    <tr>\n",
       "      <th>Surface</th>\n",
       "      <td>dayan</td>\n",
       "      <td>ış</td>\n",
       "      <td>tır</td>\n",
       "      <td>ıl</td>\n",
       "      <td>ama</td>\n",
       "      <td>yabil</td>\n",
       "      <td>ecek</td>\n",
       "      <td>mi</td>\n",
       "      <td>ymiş</td>\n",
       "      <td>iz</td>\n",
       "    </tr>\n",
       "  </tbody>\n",
       "</table>\n",
       "</div>"
      ],
      "text/plain": [
       "                  0      1     2     3      4      5       6    7      8    9\n",
       "Lexical       dayan  RECIP  CAUS  PASS  IMPOT    POT  FUTURE  INT  INFER  1PL\n",
       "Intermediate  dayan      Ş     C     L    YEM  YEbil   YEcEK  #mI   ?mIş  YIz\n",
       "Surface       dayan     ış   tır    ıl    ama  yabil    ecek   mi   ymiş   iz"
      ]
     },
     "execution_count": 29,
     "metadata": {},
     "output_type": "execute_result"
    }
   ],
   "source": [
    "# Initialisierung\n",
    "vg = VerbGenerator(\"dayan\")\n",
    "# Featureliste übergeben\n",
    "vg.setFeatures(['RECIP', 'CAUS', 'PASS', 'IMPOT', 'POT', \n",
    "                'FUTURE', 'INT', 'INFER', '1', 'PL'])\n",
    "# Form ausgeben\n",
    "vg.analyze()"
   ]
  },
  {
   "cell_type": "code",
   "execution_count": 30,
   "metadata": {},
   "outputs": [
    {
     "data": {
      "text/plain": [
       "'dayanıştırılamayabilecek miymişiz'"
      ]
     },
     "execution_count": 30,
     "metadata": {},
     "output_type": "execute_result"
    }
   ],
   "source": [
    "# Analyse ausgeben\n",
    "vg.form()"
   ]
  },
  {
   "cell_type": "markdown",
   "metadata": {},
   "source": [
    "### yıkandırtılmamışsam:\n",
    "- yıka + ['REFL', 'CAUS2', 'PASS', 'NEG', 'CONDfeature', 'MIS', '1', 'SG']"
   ]
  },
  {
   "cell_type": "code",
   "execution_count": 31,
   "metadata": {},
   "outputs": [
    {
     "data": {
      "text/html": [
       "<div>\n",
       "<style scoped>\n",
       "    .dataframe tbody tr th:only-of-type {\n",
       "        vertical-align: middle;\n",
       "    }\n",
       "\n",
       "    .dataframe tbody tr th {\n",
       "        vertical-align: top;\n",
       "    }\n",
       "\n",
       "    .dataframe thead th {\n",
       "        text-align: right;\n",
       "    }\n",
       "</style>\n",
       "<table border=\"1\" class=\"dataframe\">\n",
       "  <thead>\n",
       "    <tr style=\"text-align: right;\">\n",
       "      <th></th>\n",
       "      <th>0</th>\n",
       "      <th>1</th>\n",
       "      <th>2</th>\n",
       "      <th>3</th>\n",
       "      <th>4</th>\n",
       "      <th>5</th>\n",
       "      <th>6</th>\n",
       "      <th>7</th>\n",
       "      <th>8</th>\n",
       "    </tr>\n",
       "  </thead>\n",
       "  <tbody>\n",
       "    <tr>\n",
       "      <th>Lexical</th>\n",
       "      <td>yıka</td>\n",
       "      <td>REFL</td>\n",
       "      <td>CAUS</td>\n",
       "      <td>CAUS</td>\n",
       "      <td>PASS</td>\n",
       "      <td>NEG</td>\n",
       "      <td>MIS</td>\n",
       "      <td>CONDfeature</td>\n",
       "      <td>1SG</td>\n",
       "    </tr>\n",
       "    <tr>\n",
       "      <th>Intermediate</th>\n",
       "      <td>yıka</td>\n",
       "      <td>N</td>\n",
       "      <td>C</td>\n",
       "      <td>C</td>\n",
       "      <td>L</td>\n",
       "      <td>M</td>\n",
       "      <td>mIş</td>\n",
       "      <td>!sE</td>\n",
       "      <td>m</td>\n",
       "    </tr>\n",
       "    <tr>\n",
       "      <th>Surface</th>\n",
       "      <td>yıka</td>\n",
       "      <td>n</td>\n",
       "      <td>dır</td>\n",
       "      <td>t</td>\n",
       "      <td>ıl</td>\n",
       "      <td>ma</td>\n",
       "      <td>mış</td>\n",
       "      <td>sa</td>\n",
       "      <td>m</td>\n",
       "    </tr>\n",
       "  </tbody>\n",
       "</table>\n",
       "</div>"
      ],
      "text/plain": [
       "                 0     1     2     3     4    5    6            7    8\n",
       "Lexical       yıka  REFL  CAUS  CAUS  PASS  NEG  MIS  CONDfeature  1SG\n",
       "Intermediate  yıka     N     C     C     L    M  mIş          !sE    m\n",
       "Surface       yıka     n   dır     t    ıl   ma  mış           sa    m"
      ]
     },
     "execution_count": 31,
     "metadata": {},
     "output_type": "execute_result"
    }
   ],
   "source": [
    "# Initialisierung\n",
    "vg = VerbGenerator(\"yıka\")\n",
    "# Featureliste übergeben\n",
    "vg.setFeatures(['REFL', 'CAUS2', 'PASS', 'NEG', 'CONDfeature', 'MIS', '1', 'SG'])\n",
    "# Form ausgeben\n",
    "vg.analyze()"
   ]
  },
  {
   "cell_type": "code",
   "execution_count": 32,
   "metadata": {},
   "outputs": [
    {
     "data": {
      "text/plain": [
       "'yıkandırtılmamışsam'"
      ]
     },
     "execution_count": 32,
     "metadata": {},
     "output_type": "execute_result"
    }
   ],
   "source": [
    "# Analyse ausgeben\n",
    "vg.form()"
   ]
  },
  {
   "cell_type": "markdown",
   "metadata": {},
   "source": [
    "# 5. Unregelmäßige Verben\n",
    "## Die unregelmäßigen Stämme ye und de"
   ]
  },
  {
   "cell_type": "code",
   "execution_count": 33,
   "metadata": {},
   "outputs": [
    {
     "name": "stdout",
     "output_type": "stream",
     "text": [
      "yiyorsunuz\n",
      "dedik\n"
     ]
    }
   ],
   "source": [
    "vg = VerbGenerator(\"ye\")\n",
    "vg.setFeatures([\"2\",\"PL\",\"PRES\"])\n",
    "print(vg.form())\n",
    "vg = VerbGenerator(\"de\")\n",
    "vg.setFeatures([\"1\",\"PL\",\"DI\"])\n",
    "print(vg.form())"
   ]
  },
  {
   "cell_type": "markdown",
   "metadata": {},
   "source": [
    "## Unregelmäßige Stämme des Aorist"
   ]
  },
  {
   "cell_type": "code",
   "execution_count": 34,
   "metadata": {},
   "outputs": [
    {
     "name": "stdout",
     "output_type": "stream",
     "text": [
      "yaparım\n",
      "olurum\n"
     ]
    }
   ],
   "source": [
    "# regelmäßiger Stamm \"yap\" mit \"-Er\"\n",
    "vg = VerbGenerator(\"yap\")\n",
    "vg.setFeatures([\"1\",\"SG\",\"AOR\"])\n",
    "print(vg.form())\n",
    "# unregelmäßiger Stamm \"ol\" mit \"-Ir\"\n",
    "vg = VerbGenerator(\"ol\")\n",
    "vg.setFeatures([\"1\",\"SG\",\"AOR\"])\n",
    "print(vg.form())"
   ]
  },
  {
   "cell_type": "markdown",
   "metadata": {},
   "source": [
    "## Konsonantenassimilation\n",
    "### Stämme: git, tat, et"
   ]
  },
  {
   "cell_type": "code",
   "execution_count": 35,
   "metadata": {},
   "outputs": [
    {
     "name": "stdout",
     "output_type": "stream",
     "text": [
      "gideceğiz\n",
      "yardım edeyim mi\n"
     ]
    }
   ],
   "source": [
    "# unregelmäßiger Stamm \"git\"\n",
    "vg = VerbGenerator(\"git\")\n",
    "vg.setFeatures([\"1\",\"PL\",\"FUTURE\"])\n",
    "print(vg.form())\n",
    "# unregelmäßiger Stamm \"et\" als Hilfsverb\n",
    "vg = VerbGenerator(\"yardım et\")\n",
    "vg.setFeatures([\"1\",\"SG\",\"OPT\",\"INT\"])\n",
    "print(vg.form())"
   ]
  },
  {
   "cell_type": "markdown",
   "metadata": {},
   "source": [
    "# 6. Vergleich mit handannotierten Formen\n",
    "- In der Datei tagged_words.txt befinden sich 67 handannotierte Verbformen, die mit dem entsprechenden Verbstamm und den Features annotiert sind.\n",
    "- Zur Evaluierung werden diese Formen anhand der Annotationen neu generiert und mit den Originalformen verglichen\n",
    "- Eine Übersicht verschafft die anschließend ausgegebene Liste"
   ]
  },
  {
   "cell_type": "code",
   "execution_count": 36,
   "metadata": {},
   "outputs": [
    {
     "name": "stdout",
     "output_type": "stream",
     "text": [
      "1     geliyorum                                gel        PRES 1 SG                                          correct             \n",
      "2     geliyordum                               gel        PRES PAST 1 SG                                     correct             \n",
      "3     geliyorsam                               gel        PRES CONDfeature 1 SG                              correct             \n",
      "4     geliyorduysam                            gel        PRES PAST CONDfeature 1 SG                         correct             \n",
      "5     geliyormuşum                             gel        PRES INFER 1 SG                                    correct             \n",
      "6     geliyormuşsam                            gel        PRES INFER CONDfeature 1 SG                        correct             \n",
      "7     geleceğim                                gel        FUTURE 1 SG                                        correct             \n",
      "8     gelecektim                               gel        FUTURE PAST 1 SG                                   correct             \n",
      "9     geleceksem                               gel        FUTURE CONDfeature 1 SG                            correct             \n",
      "10    gelecektiysem                            gel        FUTURE PAST CONDfeature 1 SG                       correct             \n",
      "11    gelecekmişim                             gel        FUTURE INFER 1 SG                                  correct             \n",
      "12    gelecekmişsem                            gel        FUTURE INFER CONDfeature 1 SG                      correct             \n",
      "13    gelirim                                  gel        AOR 1 SG                                           correct             \n",
      "14    gelirdim                                 gel        AOR PAST 1 SG                                      correct             \n",
      "15    gelirsem                                 gel        AOR CONDfeature 1 SG                               correct             \n",
      "16    gelirdiysem                              gel        AOR PAST CONDfeature 1 SG                          correct             \n",
      "17    gelirmişim                               gel        AOR INFER 1 SG                                     correct             \n",
      "18    gelirmişsem                              gel        AOR INFER CONDfeature 1 SG                         correct             \n",
      "19    gelmişim                                 gel        MIS 1 SG                                           correct             \n",
      "20    gelmiştim                                gel        MIS PAST 1 SG                                      correct             \n",
      "21    gelmişsem                                gel        MIS CONDfeature 1 SG                               correct             \n",
      "22    gelmiş idiysem                           gel        MIS PAST CONDfeature 1 SG                          correct             \n",
      "23    gelmiş imişim                            gel        MIS INFER 1 SG                                     correct             \n",
      "24    gelmiş imişsem                           gel        MIS INFER CONDfeature 1 SG                         correct             \n",
      "25    geldim                                   gel        DI 1 SG                                            correct             \n",
      "26    geldiydim                                gel        DI PAST 1 SG                                       correct             \n",
      "27    geldiysem                                gel        DI CONDfeature 1 SG                                correct             \n",
      "28    geldi idiysem                            gel        DI PAST CONDfeature 1 SG                           correct             \n",
      "29    gelsem                                   gel        COND 1 SG                                          correct             \n",
      "30    gelseydim                                gel        COND PAST 1 SG                                     correct             \n",
      "31    gelseymişim                              gel        COND INFER 1 SG                                    correct             \n",
      "32    geleyim                                  gel        OPT 1 SG                                           correct             \n",
      "33    geleydim                                 gel        OPT PAST 1 SG                                      correct             \n",
      "34    geleymişim                               gel        OPT INFER 1 SG                                     correct             \n",
      "35    gelmeliyim                               gel        NEC 1 SG                                           correct             \n",
      "36    gelmeliydim                              gel        NEC PAST 1 SG                                      correct             \n",
      "37    gelmeliysem                              gel        NEC CONDfeature 1 SG                               correct             \n",
      "38    gelmeliydiysem                           gel        NEC PAST CONDfeature 1 SG                          correct             \n",
      "39    gelmeliymişim                            gel        NEC INFER 1 SG                                     correct             \n",
      "40    yapabileceksek                           yap        POT FUTURE CONDfeature 1 PL                        correct             \n",
      "41    gelmedi                                  gel        NEG DI 3 SG                                        correct             \n",
      "42    gelmez                                   gel        NEG AOR 3 SG                                       correct             \n",
      "43    gelebilirim                              gel        POT AOR 1 SG                                       correct             \n",
      "44    gelemedi                                 gel        IMPOT DI 3 SG                                      correct             \n",
      "45    gelmeyebilirim                           gel        NEG POT AOR 1 SG                                   correct             \n",
      "46    gelemeyebilirim                          gel        IMPOT POT AOR 1 SG                                 correct             \n",
      "47    gelmezsin                                gel        NEG AOR 2 SG                                       correct             \n",
      "48    alıyor musun                             al         INT PRES 2 SG                                      correct             \n",
      "49    yaptınız mı                              yap        INT DI 2 PL                                        correct             \n",
      "50    alıyor muydun                            al         INT PRES PAST 2 SG                                 correct             \n",
      "51    geldiniz miydi                           gel        INT DI PAST 2 PL                                   correct             \n",
      "52    evdeyim                                  evde       toBE 1 SG                                          correct             \n",
      "53    evdeydim                                 evde       toBE PAST 1 SG                                     correct             \n",
      "54    evdeysem                                 evde       toBE CONDfeature 1 SG                              correct             \n",
      "55    evdeydiysem                              evde       toBE PAST CONDfeature 1 SG                         correct             \n",
      "56    evdeydiymişim                            evde       toBE PAST INFER 1 SG                               correct             \n",
      "57    evdeymişim                               evde       toBE INFER 1 SG                                    correct             \n",
      "58    evdeymişsem                              evde       toBE CONDfeature INFER 1 SG                        correct             \n",
      "59    evde değilim                             evde       toBE NEG 1 SG                                      correct             \n",
      "60    evde miyim                               evde       toBE INT 1 SG                                      correct             \n",
      "61    evde miydim                              evde       toBE INT PAST 1 SG                                 correct             \n",
      "62    dayanıştırılamayabilecek miymişiz        dayan      RECIP CAUS PASS IMPOT POT FUTURE INT INFER 1 PL    correct             \n",
      "63    bekleyecek                               bekle      FUTURE 3 SG                                        correct             \n",
      "64    yıkandırtılmamışsam                      yıka       REFL CAUS2 PASS NEG CONDfeature MIS 1 SG           correct             \n",
      "65    tamir ediyorlar                          tamir et   PRES 3 PL                                          correct             \n",
      "66    diyelim                                  de         OPT 1 PL                                           correct             \n",
      "67    yiyeceğiz                                ye         FUTURE 1 PL                                        correct             \n",
      "68    gelen                                    gel        PRES PART                                          correct             \n",
      "69    geldik                                   gel        DI PART                                            correct             \n",
      "\n",
      "correct forms generated: 69 of 69\n",
      "wrong forms generated: 0 of 69\n"
     ]
    }
   ],
   "source": [
    "# Datei verarbeiten und eine Liste der annotierten Wörter erstellen\n",
    "aw = open(\"annotated_words.txt\",encoding=\"UTF-8\")\n",
    "aw_read = aw.read()\n",
    "annotatedWords = [[element.split(\"\\t\")[0],element.split(\"\\t\")[1].split(\"|\")] for element in aw_read.split(\"\\n\") if element != \"\"]\n",
    "aw.close()\n",
    "\n",
    "# Variablen zuweisen\n",
    "# Liste für die ausgabe\n",
    "evaluated_words = []\n",
    "# Index des Wortes für die Übersicht der Ausgabeliste\n",
    "num = 0\n",
    "# Anzahl der richtig generierten Formen\n",
    "correct = 0\n",
    "# Anzahl der falsch generierten Formen\n",
    "wrong = 0\n",
    "# Liste für die ausgabe erstellen\n",
    "for annotatedWord in annotatedWords:\n",
    "    num += 1\n",
    "    stem,featureList,gold_form = annotatedWord[1][0],annotatedWord[1][1:],annotatedWord[0]\n",
    "    # Form generieren\n",
    "    vg = VerbGenerator(stem)\n",
    "    vg.setFeatures(featureList)\n",
    "    generated_form = vg.form()\n",
    "    # Als richtig oder falsch einstufen\n",
    "    if generated_form == gold_form:\n",
    "        match = \"correct\"\n",
    "        correct += 1\n",
    "    else:\n",
    "        match = \"wrong\"\n",
    "        wrong += 1\n",
    "    # Listenintrag erstellen\n",
    "    evaluated_words += [[str(num),gold_form,stem,\" \".join(featureList),match]]\n",
    "\n",
    "# Alle Einträge formatiert in Tabelle ausgeben\n",
    "for word in evaluated_words:\n",
    "    if len(word) == 5:\n",
    "        print(\"{:5} {:40} {:10} {:50} {:20}\".format(word[0],word[1],word[2],word[3],word[4]))\n",
    "print()\n",
    "# Anzahl richtig und falsch generierter Wörter\n",
    "print(\"correct forms generated: \"+str(correct)+\" of \"+str(len(annotatedWords)))\n",
    "print(\"wrong forms generated: \"+str(wrong)+\" of \"+str(len(annotatedWords)))"
   ]
  },
  {
   "cell_type": "code",
   "execution_count": null,
   "metadata": {},
   "outputs": [],
   "source": []
  }
 ],
 "metadata": {
  "kernelspec": {
   "display_name": "Python 3",
   "language": "python",
   "name": "python3"
  },
  "language_info": {
   "codemirror_mode": {
    "name": "ipython",
    "version": 3
   },
   "file_extension": ".py",
   "mimetype": "text/x-python",
   "name": "python",
   "nbconvert_exporter": "python",
   "pygments_lexer": "ipython3",
   "version": "3.7.6"
  }
 },
 "nbformat": 4,
 "nbformat_minor": 2
}
